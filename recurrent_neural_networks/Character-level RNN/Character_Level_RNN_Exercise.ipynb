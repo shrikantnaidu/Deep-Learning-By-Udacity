{
 "cells": [
  {
   "cell_type": "markdown",
   "metadata": {},
   "source": [
    "# Character-Level LSTM in PyTorch\n",
    "\n",
    "In this notebook, I'll construct a character-level LSTM with PyTorch. The network will train character by character on some text, then generate new text character by character. As an example, I will train on Anna Karenina. **This model will be able to generate new text based on the text from the book!**\n",
    "\n",
    "This network is based off of Andrej Karpathy's [post on RNNs](http://karpathy.github.io/2015/05/21/rnn-effectiveness/) and [implementation in Torch](https://github.com/karpathy/char-rnn). Below is the general architecture of the character-wise RNN.\n",
    "\n",
    "<img src=\"assets/charseq.jpeg\" width=\"500\">"
   ]
  },
  {
   "cell_type": "markdown",
   "metadata": {},
   "source": [
    "First let's load in our required resources for data loading and model creation."
   ]
  },
  {
   "cell_type": "code",
   "execution_count": 2,
   "metadata": {},
   "outputs": [],
   "source": [
    "import numpy as np\n",
    "import torch\n",
    "from torch import nn\n",
    "import torch.nn.functional as F"
   ]
  },
  {
   "cell_type": "markdown",
   "metadata": {},
   "source": [
    "## Load in Data\n",
    "\n",
    "Then, we'll load the Anna Karenina text file and convert it into integers for our network to use. "
   ]
  },
  {
   "cell_type": "code",
   "execution_count": 3,
   "metadata": {},
   "outputs": [],
   "source": [
    "# open text file and read in data as `text`\n",
    "with open('data/anna.txt', 'r') as f:\n",
    "    text = f.read()"
   ]
  },
  {
   "cell_type": "markdown",
   "metadata": {},
   "source": [
    "Let's check out the first 100 characters, make sure everything is peachy. According to the [American Book Review](http://americanbookreview.org/100bestlines.asp), this is the 6th best first line of a book ever."
   ]
  },
  {
   "cell_type": "code",
   "execution_count": 4,
   "metadata": {},
   "outputs": [
    {
     "data": {
      "text/plain": [
       "'Chapter 1\\n\\n\\nHappy families are all alike; every unhappy family is unhappy in its own\\nway.\\n\\nEverythin'"
      ]
     },
     "execution_count": 4,
     "metadata": {},
     "output_type": "execute_result"
    }
   ],
   "source": [
    "text[:100]"
   ]
  },
  {
   "cell_type": "markdown",
   "metadata": {},
   "source": [
    "### Tokenization\n",
    "\n",
    "In the cells, below, I'm creating a couple **dictionaries** to convert the characters to and from integers. Encoding the characters as integers makes it easier to use as input in the network."
   ]
  },
  {
   "cell_type": "code",
   "execution_count": 5,
   "metadata": {},
   "outputs": [],
   "source": [
    "# encode the text and map each character to an integer and vice versa\n",
    "\n",
    "# we create two dictionaries:\n",
    "# 1. int2char, which maps integers to characters\n",
    "# 2. char2int, which maps characters to unique integers\n",
    "chars = tuple(set(text))\n",
    "int2char = dict(enumerate(chars))\n",
    "char2int = {ch: ii for ii, ch in int2char.items()}\n",
    "\n",
    "# encode the text\n",
    "encoded = np.array([char2int[ch] for ch in text])"
   ]
  },
  {
   "cell_type": "markdown",
   "metadata": {},
   "source": [
    "And we can see those same characters from above, encoded as integers."
   ]
  },
  {
   "cell_type": "code",
   "execution_count": 6,
   "metadata": {},
   "outputs": [
    {
     "data": {
      "text/plain": [
       "array([74, 30, 13, 20,  2, 55,  9, 36, 41, 51, 51, 51, 77, 13, 20, 20, 64,\n",
       "       36, 19, 13, 59, 61, 23, 61, 55, 34, 36, 13,  9, 55, 36, 13, 23, 23,\n",
       "       36, 13, 23, 61,  3, 55, 78, 36, 55,  8, 55,  9, 64, 36, 35, 52, 30,\n",
       "       13, 20, 20, 64, 36, 19, 13, 59, 61, 23, 64, 36, 61, 34, 36, 35, 52,\n",
       "       30, 13, 20, 20, 64, 36, 61, 52, 36, 61,  2, 34, 36, 44, 39, 52, 51,\n",
       "       39, 13, 64, 57, 51, 51, 14,  8, 55,  9, 64,  2, 30, 61, 52])"
      ]
     },
     "execution_count": 6,
     "metadata": {},
     "output_type": "execute_result"
    }
   ],
   "source": [
    "encoded[:100]"
   ]
  },
  {
   "cell_type": "markdown",
   "metadata": {},
   "source": [
    "## Pre-processing the data\n",
    "\n",
    "As you can see in our char-RNN image above, our LSTM expects an input that is **one-hot encoded** meaning that each character is converted into an integer (via our created dictionary) and *then* converted into a column vector where only it's corresponding integer index will have the value of 1 and the rest of the vector will be filled with 0's. Since we're one-hot encoding the data, let's make a function to do that!\n"
   ]
  },
  {
   "cell_type": "code",
   "execution_count": 7,
   "metadata": {},
   "outputs": [],
   "source": [
    "def one_hot_encode(arr, n_labels):\n",
    "    \n",
    "    # Initialize the the encoded array\n",
    "    one_hot = np.zeros((arr.size, n_labels), dtype=np.float32)\n",
    "    \n",
    "    # Fill the appropriate elements with ones\n",
    "    one_hot[np.arange(one_hot.shape[0]), arr.flatten()] = 1.\n",
    "    \n",
    "    # Finally reshape it to get back to the original array\n",
    "    one_hot = one_hot.reshape((*arr.shape, n_labels))\n",
    "    \n",
    "    return one_hot"
   ]
  },
  {
   "cell_type": "code",
   "execution_count": 8,
   "metadata": {},
   "outputs": [
    {
     "name": "stdout",
     "output_type": "stream",
     "text": [
      "[[[0. 0. 0. 1. 0. 0. 0. 0.]\n",
      "  [0. 0. 0. 0. 0. 1. 0. 0.]\n",
      "  [0. 1. 0. 0. 0. 0. 0. 0.]]]\n"
     ]
    }
   ],
   "source": [
    "# check that the function works as expected\n",
    "test_seq = np.array([[3, 5, 1]])\n",
    "one_hot = one_hot_encode(test_seq, 8)\n",
    "\n",
    "print(one_hot)"
   ]
  },
  {
   "cell_type": "markdown",
   "metadata": {},
   "source": [
    "## Making training mini-batches\n",
    "\n",
    "\n",
    "To train on this data, we also want to create mini-batches for training. Remember that we want our batches to be multiple sequences of some desired number of sequence steps. Considering a simple example, our batches would look like this:\n",
    "\n",
    "<img src=\"assets/sequence_batching@1x.png\" width=500px>\n",
    "\n",
    "\n",
    "<br>\n",
    "\n",
    "In this example, we'll take the encoded characters (passed in as the `arr` parameter) and split them into multiple sequences, given by `batch_size`. Each of our sequences will be `seq_length` long.\n",
    "\n",
    "### Creating Batches\n",
    "\n",
    "**1. The first thing we need to do is discard some of the text so we only have completely full mini-batches. **\n",
    "\n",
    "Each batch contains $N \\times M$ characters, where $N$ is the batch size (the number of sequences in a batch) and $M$ is the seq_length or number of time steps in a sequence. Then, to get the total number of batches, $K$, that we can make from the array `arr`, you divide the length of `arr` by the number of characters per batch. Once you know the number of batches, you can get the total number of characters to keep from `arr`, $N * M * K$.\n",
    "\n",
    "**2. After that, we need to split `arr` into $N$ batches. ** \n",
    "\n",
    "You can do this using `arr.reshape(size)` where `size` is a tuple containing the dimensions sizes of the reshaped array. We know we want $N$ sequences in a batch, so let's make that the size of the first dimension. For the second dimension, you can use `-1` as a placeholder in the size, it'll fill up the array with the appropriate data for you. After this, you should have an array that is $N \\times (M * K)$.\n",
    "\n",
    "**3. Now that we have this array, we can iterate through it to get our mini-batches. **\n",
    "\n",
    "The idea is each batch is a $N \\times M$ window on the $N \\times (M * K)$ array. For each subsequent batch, the window moves over by `seq_length`. We also want to create both the input and target arrays. Remember that the targets are just the inputs shifted over by one character. The way I like to do this window is use `range` to take steps of size `n_steps` from $0$ to `arr.shape[1]`, the total number of tokens in each sequence. That way, the integers you get from `range` always point to the start of a batch, and each window is `seq_length` wide.\n",
    "\n",
    "> **TODO:** Write the code for creating batches in the function below. The exercises in this notebook _will not be easy_. I've provided a notebook with solutions alongside this notebook. If you get stuck, checkout the solutions. The most important thing is that you don't copy and paste the code into here, **type out the solution code yourself.**"
   ]
  },
  {
   "cell_type": "code",
   "execution_count": 9,
   "metadata": {},
   "outputs": [],
   "source": [
    "def get_batches(arr, batch_size, seq_length):\n",
    "    '''Create a generator that returns batches of size\n",
    "       batch_size x seq_length from arr.\n",
    "       \n",
    "       Arguments\n",
    "       ---------\n",
    "       arr: Array you want to make batches from\n",
    "       batch_size: Batch size, the number of sequences per batch\n",
    "       seq_length: Number of encoded chars in a sequence\n",
    "    '''\n",
    "    \n",
    "    batch_size_total = batch_size * seq_length\n",
    "    # total number of batches we can make\n",
    "    n_batches = len(arr)//batch_size_total\n",
    "    \n",
    "    # Keep only enough characters to make full batches\n",
    "    arr = arr[:n_batches * batch_size_total]\n",
    "    # Reshape into batch_size rows\n",
    "    arr = arr.reshape((batch_size, -1))\n",
    "    \n",
    "    # iterate through the array, one sequence at a time\n",
    "    for n in range(0, arr.shape[1], seq_length):\n",
    "        # The features\n",
    "        x = arr[:, n:n+seq_length]\n",
    "        # The targets, shifted by one\n",
    "        y = np.zeros_like(x)\n",
    "        try:\n",
    "            y[:, :-1], y[:, -1] = x[:, 1:], arr[:, n+seq_length]\n",
    "        except IndexError:\n",
    "            y[:, :-1], y[:, -1] = x[:, 1:], arr[:, 0]\n",
    "        yield x, y"
   ]
  },
  {
   "cell_type": "markdown",
   "metadata": {},
   "source": [
    "### Test Your Implementation\n",
    "\n",
    "Now I'll make some data sets and we can check out what's going on as we batch data. Here, as an example, I'm going to use a batch size of 8 and 50 sequence steps."
   ]
  },
  {
   "cell_type": "code",
   "execution_count": 10,
   "metadata": {},
   "outputs": [],
   "source": [
    "batches = get_batches(encoded, 8, 50)\n",
    "x, y = next(batches)"
   ]
  },
  {
   "cell_type": "code",
   "execution_count": 11,
   "metadata": {},
   "outputs": [
    {
     "name": "stdout",
     "output_type": "stream",
     "text": [
      "x\n",
      " [[74 30 13 20  2 55  9 36 41 51]\n",
      " [34 44 52 36  2 30 13  2 36 13]\n",
      " [55 52 70 36 44  9 36 13 36 19]\n",
      " [34 36  2 30 55 36 24 30 61 55]\n",
      " [36 34 13 39 36 30 55  9 36  2]\n",
      " [24 35 34 34 61 44 52 36 13 52]\n",
      " [36 69 52 52 13 36 30 13 70 36]\n",
      " [ 0 31 23 44 52 34  3 64 57 36]]\n",
      "\n",
      "y\n",
      " [[30 13 20  2 55  9 36 41 51 51]\n",
      " [44 52 36  2 30 13  2 36 13  2]\n",
      " [52 70 36 44  9 36 13 36 19 44]\n",
      " [36  2 30 55 36 24 30 61 55 19]\n",
      " [34 13 39 36 30 55  9 36  2 55]\n",
      " [35 34 34 61 44 52 36 13 52 70]\n",
      " [69 52 52 13 36 30 13 70 36 34]\n",
      " [31 23 44 52 34  3 64 57 36 75]]\n"
     ]
    }
   ],
   "source": [
    "# printing out the first 10 items in a sequence\n",
    "print('x\\n', x[:10, :10])\n",
    "print('\\ny\\n', y[:10, :10])"
   ]
  },
  {
   "cell_type": "markdown",
   "metadata": {},
   "source": [
    "If you implemented `get_batches` correctly, the above output should look something like \n",
    "```\n",
    "x\n",
    " [[25  8 60 11 45 27 28 73  1  2]\n",
    " [17  7 20 73 45  8 60 45 73 60]\n",
    " [27 20 80 73  7 28 73 60 73 65]\n",
    " [17 73 45  8 27 73 66  8 46 27]\n",
    " [73 17 60 12 73  8 27 28 73 45]\n",
    " [66 64 17 17 46  7 20 73 60 20]\n",
    " [73 76 20 20 60 73  8 60 80 73]\n",
    " [47 35 43  7 20 17 24 50 37 73]]\n",
    "\n",
    "y\n",
    " [[ 8 60 11 45 27 28 73  1  2  2]\n",
    " [ 7 20 73 45  8 60 45 73 60 45]\n",
    " [20 80 73  7 28 73 60 73 65  7]\n",
    " [73 45  8 27 73 66  8 46 27 65]\n",
    " [17 60 12 73  8 27 28 73 45 27]\n",
    " [64 17 17 46  7 20 73 60 20 80]\n",
    " [76 20 20 60 73  8 60 80 73 17]\n",
    " [35 43  7 20 17 24 50 37 73 36]]\n",
    " ```\n",
    " although the exact numbers may be different. Check to make sure the data is shifted over one step for `y`."
   ]
  },
  {
   "cell_type": "markdown",
   "metadata": {},
   "source": [
    "---\n",
    "## Defining the network with PyTorch\n",
    "\n",
    "Below is where you'll define the network.\n",
    "\n",
    "<img src=\"assets/charRNN.png\" width=500px>\n",
    "\n",
    "Next, you'll use PyTorch to define the architecture of the network. We start by defining the layers and operations we want. Then, define a method for the forward pass. You've also been given a method for predicting characters."
   ]
  },
  {
   "cell_type": "markdown",
   "metadata": {},
   "source": [
    "### Model Structure\n",
    "\n",
    "In `__init__` the suggested structure is as follows:\n",
    "* Create and store the necessary dictionaries (this has been done for you)\n",
    "* Define an LSTM layer that takes as params: an input size (the number of characters), a hidden layer size `n_hidden`, a number of layers `n_layers`, a dropout probability `drop_prob`, and a batch_first boolean (True, since we are batching)\n",
    "* Define a dropout layer with `drop_prob`\n",
    "* Define a fully-connected layer with params: input size `n_hidden` and output size (the number of characters)\n",
    "* Finally, initialize the weights (again, this has been given)\n",
    "\n",
    "Note that some parameters have been named and given in the `__init__` function, and we use them and store them by doing something like `self.drop_prob = drop_prob`."
   ]
  },
  {
   "cell_type": "markdown",
   "metadata": {},
   "source": [
    "---\n",
    "### LSTM Inputs/Outputs\n",
    "\n",
    "You can create a basic [LSTM layer](https://pytorch.org/docs/stable/nn.html#lstm) as follows\n",
    "\n",
    "```python\n",
    "self.lstm = nn.LSTM(input_size, n_hidden, n_layers, \n",
    "                            dropout=drop_prob, batch_first=True)\n",
    "```\n",
    "\n",
    "where `input_size` is the number of characters this cell expects to see as sequential input, and `n_hidden` is the number of units in the hidden layers in the cell. And we can add dropout by adding a dropout parameter with a specified probability; this will automatically add dropout to the inputs or outputs. Finally, in the `forward` function, we can stack up the LSTM cells into layers using `.view`. With this, you pass in a list of cells and it will send the output of one cell into the next cell.\n",
    "\n",
    "We also need to create an initial hidden state of all zeros. This is done like so\n",
    "\n",
    "```python\n",
    "self.init_hidden()\n",
    "```"
   ]
  },
  {
   "cell_type": "code",
   "execution_count": 12,
   "metadata": {},
   "outputs": [
    {
     "name": "stdout",
     "output_type": "stream",
     "text": [
      "Training on GPU!\n"
     ]
    }
   ],
   "source": [
    "# check if GPU is available\n",
    "train_on_gpu = torch.cuda.is_available()\n",
    "if(train_on_gpu):\n",
    "    print('Training on GPU!')\n",
    "else: \n",
    "    print('No GPU available, training on CPU; consider making n_epochs very small.')"
   ]
  },
  {
   "cell_type": "code",
   "execution_count": 13,
   "metadata": {},
   "outputs": [],
   "source": [
    "class CharRNN(nn.Module):\n",
    "    \n",
    "    def __init__(self, tokens, n_hidden=256, n_layers=2,\n",
    "                               drop_prob=0.5, lr=0.001):\n",
    "        super().__init__()\n",
    "        self.drop_prob = drop_prob\n",
    "        self.n_layers = n_layers\n",
    "        self.n_hidden = n_hidden\n",
    "        self.lr = lr\n",
    "        \n",
    "        # creating character dictionaries\n",
    "        self.chars = tokens\n",
    "        self.int2char = dict(enumerate(self.chars))\n",
    "        self.char2int = {ch: ii for ii, ch in self.int2char.items()}\n",
    "        \n",
    "        ## TODO: define the LSTM\n",
    "        self.lstm = nn.LSTM(len(self.chars), n_hidden, n_layers, \n",
    "                            dropout=drop_prob, batch_first=True)\n",
    "        \n",
    "        ## TODO: define a dropout layer\n",
    "        self.dropout = nn.Dropout(drop_prob)\n",
    "        \n",
    "        ## TODO: define the final, fully-connected output layer\n",
    "        self.fc = nn.Linear(n_hidden, len(self.chars))\n",
    "      \n",
    "    \n",
    "    def forward(self, x, hidden):\n",
    "        ''' Forward pass through the network. \n",
    "            These inputs are x, and the hidden/cell state `hidden`. '''\n",
    "                \n",
    "        ## TODO: Get the outputs and the new hidden state from the lstm\n",
    "        r_output, hidden = self.lstm(x, hidden)\n",
    "        \n",
    "        ## TODO: pass through a dropout layer\n",
    "        out = self.dropout(r_output)\n",
    "        \n",
    "        # Stack up LSTM outputs using view\n",
    "        # you may need to use contiguous to reshape the output\n",
    "        out = out.contiguous().view(-1, self.n_hidden)\n",
    "        \n",
    "        ## TODO: put x through the fully-connected layer\n",
    "        out = self.fc(out)\n",
    "        \n",
    "        # return the final output and the hidden state\n",
    "        return out, hidden\n",
    "    \n",
    "    \n",
    "    def init_hidden(self, batch_size):\n",
    "        ''' Initializes hidden state '''\n",
    "        # Create two new tensors with sizes n_layers x batch_size x n_hidden,\n",
    "        # initialized to zero, for hidden state and cell state of LSTM\n",
    "        weight = next(self.parameters()).data\n",
    "        \n",
    "        if (train_on_gpu):\n",
    "            hidden = (weight.new(self.n_layers, batch_size, self.n_hidden).zero_().cuda(),\n",
    "                  weight.new(self.n_layers, batch_size, self.n_hidden).zero_().cuda())\n",
    "        else:\n",
    "            hidden = (weight.new(self.n_layers, batch_size, self.n_hidden).zero_(),\n",
    "                      weight.new(self.n_layers, batch_size, self.n_hidden).zero_())\n",
    "        \n",
    "        return hidden\n",
    "        "
   ]
  },
  {
   "cell_type": "markdown",
   "metadata": {},
   "source": [
    "## Time to train\n",
    "\n",
    "The train function gives us the ability to set the number of epochs, the learning rate, and other parameters.\n",
    "\n",
    "Below we're using an Adam optimizer and cross entropy loss since we are looking at character class scores as output. We calculate the loss and perform backpropagation, as usual!\n",
    "\n",
    "A couple of details about training: \n",
    ">* Within the batch loop, we detach the hidden state from its history; this time setting it equal to a new *tuple* variable because an LSTM has a hidden state that is a tuple of the hidden and cell states.\n",
    "* We use [`clip_grad_norm_`](https://pytorch.org/docs/stable/_modules/torch/nn/utils/clip_grad.html) to help prevent exploding gradients."
   ]
  },
  {
   "cell_type": "code",
   "execution_count": 14,
   "metadata": {},
   "outputs": [],
   "source": [
    "def train(net, data, epochs=10, batch_size=10, seq_length=50, lr=0.001, clip=5, val_frac=0.1, print_every=10):\n",
    "    ''' Training a network \n",
    "    \n",
    "        Arguments\n",
    "        ---------\n",
    "        \n",
    "        net: CharRNN network\n",
    "        data: text data to train the network\n",
    "        epochs: Number of epochs to train\n",
    "        batch_size: Number of mini-sequences per mini-batch, aka batch size\n",
    "        seq_length: Number of character steps per mini-batch\n",
    "        lr: learning rate\n",
    "        clip: gradient clipping\n",
    "        val_frac: Fraction of data to hold out for validation\n",
    "        print_every: Number of steps for printing training and validation loss\n",
    "    \n",
    "    '''\n",
    "    net.train()\n",
    "    \n",
    "    opt = torch.optim.Adam(net.parameters(), lr=lr)\n",
    "    criterion = nn.CrossEntropyLoss()\n",
    "    \n",
    "    # create training and validation data\n",
    "    val_idx = int(len(data)*(1-val_frac))\n",
    "    data, val_data = data[:val_idx], data[val_idx:]\n",
    "    \n",
    "    if(train_on_gpu):\n",
    "        net.cuda()\n",
    "    \n",
    "    counter = 0\n",
    "    n_chars = len(net.chars)\n",
    "    for e in range(epochs):\n",
    "        # initialize hidden state\n",
    "        h = net.init_hidden(batch_size)\n",
    "        \n",
    "        for x, y in get_batches(data, batch_size, seq_length):\n",
    "            counter += 1\n",
    "            \n",
    "            # One-hot encode our data and make them Torch tensors\n",
    "            x = one_hot_encode(x, n_chars)\n",
    "            inputs, targets = torch.from_numpy(x), torch.from_numpy(y)\n",
    "            \n",
    "            if(train_on_gpu):\n",
    "                inputs, targets = inputs.cuda(), targets.cuda()\n",
    "\n",
    "            # Creating new variables for the hidden state, otherwise\n",
    "            # we'd backprop through the entire training history\n",
    "            h = tuple([each.data for each in h])\n",
    "\n",
    "            # zero accumulated gradients\n",
    "            net.zero_grad()\n",
    "            \n",
    "            # get the output from the model\n",
    "            output, h = net(inputs, h)\n",
    "            \n",
    "            # calculate the loss and perform backprop\n",
    "            loss = criterion(output, targets.view(batch_size*seq_length).long())\n",
    "            loss.backward()\n",
    "            # `clip_grad_norm` helps prevent the exploding gradient problem in RNNs / LSTMs.\n",
    "            nn.utils.clip_grad_norm_(net.parameters(), clip)\n",
    "            opt.step()\n",
    "            \n",
    "            # loss stats\n",
    "            if counter % print_every == 0:\n",
    "                # Get validation loss\n",
    "                val_h = net.init_hidden(batch_size)\n",
    "                val_losses = []\n",
    "                net.eval()\n",
    "                for x, y in get_batches(val_data, batch_size, seq_length):\n",
    "                    # One-hot encode our data and make them Torch tensors\n",
    "                    x = one_hot_encode(x, n_chars)\n",
    "                    x, y = torch.from_numpy(x), torch.from_numpy(y)\n",
    "                    \n",
    "                    # Creating new variables for the hidden state, otherwise\n",
    "                    # we'd backprop through the entire training history\n",
    "                    val_h = tuple([each.data for each in val_h])\n",
    "                    \n",
    "                    inputs, targets = x, y\n",
    "                    if(train_on_gpu):\n",
    "                        inputs, targets = inputs.cuda(), targets.cuda()\n",
    "\n",
    "                    output, val_h = net(inputs, val_h)\n",
    "                    val_loss = criterion(output, targets.view(batch_size*seq_length).long())\n",
    "                \n",
    "                    val_losses.append(val_loss.item())\n",
    "                \n",
    "                net.train() # reset to train mode after iterationg through validation data\n",
    "                \n",
    "                print(\"Epoch: {}/{}...\".format(e+1, epochs),\n",
    "                      \"Step: {}...\".format(counter),\n",
    "                      \"Loss: {:.4f}...\".format(loss.item()),\n",
    "                      \"Val Loss: {:.4f}\".format(np.mean(val_losses)))"
   ]
  },
  {
   "cell_type": "markdown",
   "metadata": {},
   "source": [
    "## Instantiating the model\n",
    "\n",
    "Now we can actually train the network. First we'll create the network itself, with some given hyperparameters. Then, define the mini-batches sizes, and start training!"
   ]
  },
  {
   "cell_type": "code",
   "execution_count": 15,
   "metadata": {},
   "outputs": [
    {
     "name": "stdout",
     "output_type": "stream",
     "text": [
      "CharRNN(\n",
      "  (lstm): LSTM(83, 512, num_layers=3, batch_first=True, dropout=0.5)\n",
      "  (dropout): Dropout(p=0.5, inplace=False)\n",
      "  (fc): Linear(in_features=512, out_features=83, bias=True)\n",
      ")\n"
     ]
    }
   ],
   "source": [
    "## TODO: set your model hyperparameters\n",
    "# define and print the net\n",
    "n_hidden=512\n",
    "n_layers=3\n",
    "\n",
    "net = CharRNN(chars, n_hidden, n_layers)\n",
    "print(net)"
   ]
  },
  {
   "cell_type": "markdown",
   "metadata": {},
   "source": [
    "### Set your training hyperparameters!"
   ]
  },
  {
   "cell_type": "code",
   "execution_count": 18,
   "metadata": {
    "scrolled": true
   },
   "outputs": [
    {
     "name": "stdout",
     "output_type": "stream",
     "text": [
      "Epoch: 1/10... Step: 10... Loss: 2.0039... Val Loss: 1.9662\n",
      "Epoch: 1/10... Step: 20... Loss: 1.9621... Val Loss: 1.9274\n",
      "Epoch: 1/10... Step: 30... Loss: 1.9330... Val Loss: 1.8904\n",
      "Epoch: 1/10... Step: 40... Loss: 1.8788... Val Loss: 1.8649\n",
      "Epoch: 1/10... Step: 50... Loss: 1.8892... Val Loss: 1.8371\n",
      "Epoch: 1/10... Step: 60... Loss: 1.8057... Val Loss: 1.8120\n",
      "Epoch: 1/10... Step: 70... Loss: 1.8058... Val Loss: 1.7893\n",
      "Epoch: 1/10... Step: 80... Loss: 1.7772... Val Loss: 1.7683\n",
      "Epoch: 1/10... Step: 90... Loss: 1.7809... Val Loss: 1.7467\n",
      "Epoch: 1/10... Step: 100... Loss: 1.7517... Val Loss: 1.7290\n",
      "Epoch: 1/10... Step: 110... Loss: 1.7221... Val Loss: 1.7122\n",
      "Epoch: 1/10... Step: 120... Loss: 1.6859... Val Loss: 1.6951\n",
      "Epoch: 1/10... Step: 130... Loss: 1.7194... Val Loss: 1.6789\n",
      "Epoch: 2/10... Step: 140... Loss: 1.7149... Val Loss: 1.6660\n",
      "Epoch: 2/10... Step: 150... Loss: 1.6795... Val Loss: 1.6490\n",
      "Epoch: 2/10... Step: 160... Loss: 1.6921... Val Loss: 1.6378\n",
      "Epoch: 2/10... Step: 170... Loss: 1.6754... Val Loss: 1.6215\n",
      "Epoch: 2/10... Step: 180... Loss: 1.6183... Val Loss: 1.6095\n",
      "Epoch: 2/10... Step: 190... Loss: 1.5842... Val Loss: 1.6016\n",
      "Epoch: 2/10... Step: 200... Loss: 1.5845... Val Loss: 1.5898\n",
      "Epoch: 2/10... Step: 210... Loss: 1.5999... Val Loss: 1.5833\n",
      "Epoch: 2/10... Step: 220... Loss: 1.5591... Val Loss: 1.5713\n",
      "Epoch: 2/10... Step: 230... Loss: 1.5889... Val Loss: 1.5641\n",
      "Epoch: 2/10... Step: 240... Loss: 1.5853... Val Loss: 1.5517\n",
      "Epoch: 2/10... Step: 250... Loss: 1.5538... Val Loss: 1.5452\n",
      "Epoch: 2/10... Step: 260... Loss: 1.5275... Val Loss: 1.5375\n",
      "Epoch: 2/10... Step: 270... Loss: 1.5621... Val Loss: 1.5289\n",
      "Epoch: 3/10... Step: 280... Loss: 1.5357... Val Loss: 1.5215\n",
      "Epoch: 3/10... Step: 290... Loss: 1.5477... Val Loss: 1.5124\n",
      "Epoch: 3/10... Step: 300... Loss: 1.5171... Val Loss: 1.5075\n",
      "Epoch: 3/10... Step: 310... Loss: 1.5155... Val Loss: 1.5025\n",
      "Epoch: 3/10... Step: 320... Loss: 1.4693... Val Loss: 1.4917\n",
      "Epoch: 3/10... Step: 330... Loss: 1.4860... Val Loss: 1.4923\n",
      "Epoch: 3/10... Step: 340... Loss: 1.5298... Val Loss: 1.4826\n",
      "Epoch: 3/10... Step: 350... Loss: 1.4821... Val Loss: 1.4799\n",
      "Epoch: 3/10... Step: 360... Loss: 1.4417... Val Loss: 1.4756\n",
      "Epoch: 3/10... Step: 370... Loss: 1.4744... Val Loss: 1.4722\n",
      "Epoch: 3/10... Step: 380... Loss: 1.4862... Val Loss: 1.4639\n",
      "Epoch: 3/10... Step: 390... Loss: 1.4553... Val Loss: 1.4633\n",
      "Epoch: 3/10... Step: 400... Loss: 1.4377... Val Loss: 1.4562\n",
      "Epoch: 3/10... Step: 410... Loss: 1.4654... Val Loss: 1.4522\n",
      "Epoch: 4/10... Step: 420... Loss: 1.4520... Val Loss: 1.4566\n",
      "Epoch: 4/10... Step: 430... Loss: 1.4528... Val Loss: 1.4421\n",
      "Epoch: 4/10... Step: 440... Loss: 1.4473... Val Loss: 1.4378\n",
      "Epoch: 4/10... Step: 450... Loss: 1.3920... Val Loss: 1.4335\n",
      "Epoch: 4/10... Step: 460... Loss: 1.3732... Val Loss: 1.4277\n",
      "Epoch: 4/10... Step: 470... Loss: 1.4353... Val Loss: 1.4307\n",
      "Epoch: 4/10... Step: 480... Loss: 1.4200... Val Loss: 1.4221\n",
      "Epoch: 4/10... Step: 490... Loss: 1.4232... Val Loss: 1.4197\n",
      "Epoch: 4/10... Step: 500... Loss: 1.4414... Val Loss: 1.4187\n",
      "Epoch: 4/10... Step: 510... Loss: 1.4180... Val Loss: 1.4155\n",
      "Epoch: 4/10... Step: 520... Loss: 1.4224... Val Loss: 1.4097\n",
      "Epoch: 4/10... Step: 530... Loss: 1.4065... Val Loss: 1.4077\n",
      "Epoch: 4/10... Step: 540... Loss: 1.3624... Val Loss: 1.4050\n",
      "Epoch: 4/10... Step: 550... Loss: 1.4272... Val Loss: 1.4027\n",
      "Epoch: 5/10... Step: 560... Loss: 1.3831... Val Loss: 1.4003\n",
      "Epoch: 5/10... Step: 570... Loss: 1.3936... Val Loss: 1.3947\n",
      "Epoch: 5/10... Step: 580... Loss: 1.3788... Val Loss: 1.3931\n",
      "Epoch: 5/10... Step: 590... Loss: 1.3727... Val Loss: 1.3914\n",
      "Epoch: 5/10... Step: 600... Loss: 1.3692... Val Loss: 1.3883\n",
      "Epoch: 5/10... Step: 610... Loss: 1.3531... Val Loss: 1.3882\n",
      "Epoch: 5/10... Step: 620... Loss: 1.3705... Val Loss: 1.3858\n",
      "Epoch: 5/10... Step: 630... Loss: 1.3877... Val Loss: 1.3823\n",
      "Epoch: 5/10... Step: 640... Loss: 1.3534... Val Loss: 1.3794\n",
      "Epoch: 5/10... Step: 650... Loss: 1.3597... Val Loss: 1.3772\n",
      "Epoch: 5/10... Step: 660... Loss: 1.3528... Val Loss: 1.3750\n",
      "Epoch: 5/10... Step: 670... Loss: 1.3619... Val Loss: 1.3727\n",
      "Epoch: 5/10... Step: 680... Loss: 1.3592... Val Loss: 1.3735\n",
      "Epoch: 5/10... Step: 690... Loss: 1.3548... Val Loss: 1.3722\n",
      "Epoch: 6/10... Step: 700... Loss: 1.3650... Val Loss: 1.3680\n",
      "Epoch: 6/10... Step: 710... Loss: 1.3422... Val Loss: 1.3630\n",
      "Epoch: 6/10... Step: 720... Loss: 1.3377... Val Loss: 1.3623\n",
      "Epoch: 6/10... Step: 730... Loss: 1.3461... Val Loss: 1.3632\n",
      "Epoch: 6/10... Step: 740... Loss: 1.3211... Val Loss: 1.3590\n",
      "Epoch: 6/10... Step: 750... Loss: 1.3294... Val Loss: 1.3593\n",
      "Epoch: 6/10... Step: 760... Loss: 1.3636... Val Loss: 1.3578\n",
      "Epoch: 6/10... Step: 770... Loss: 1.3304... Val Loss: 1.3557\n",
      "Epoch: 6/10... Step: 780... Loss: 1.3272... Val Loss: 1.3574\n",
      "Epoch: 6/10... Step: 790... Loss: 1.3204... Val Loss: 1.3549\n",
      "Epoch: 6/10... Step: 800... Loss: 1.3438... Val Loss: 1.3524\n",
      "Epoch: 6/10... Step: 810... Loss: 1.3204... Val Loss: 1.3497\n",
      "Epoch: 6/10... Step: 820... Loss: 1.2895... Val Loss: 1.3483\n",
      "Epoch: 6/10... Step: 830... Loss: 1.3296... Val Loss: 1.3462\n",
      "Epoch: 7/10... Step: 840... Loss: 1.2973... Val Loss: 1.3444\n",
      "Epoch: 7/10... Step: 850... Loss: 1.3073... Val Loss: 1.3412\n",
      "Epoch: 7/10... Step: 860... Loss: 1.2941... Val Loss: 1.3407\n",
      "Epoch: 7/10... Step: 870... Loss: 1.3102... Val Loss: 1.3412\n",
      "Epoch: 7/10... Step: 880... Loss: 1.3211... Val Loss: 1.3378\n",
      "Epoch: 7/10... Step: 890... Loss: 1.3215... Val Loss: 1.3399\n",
      "Epoch: 7/10... Step: 900... Loss: 1.3126... Val Loss: 1.3385\n",
      "Epoch: 7/10... Step: 910... Loss: 1.2756... Val Loss: 1.3371\n",
      "Epoch: 7/10... Step: 920... Loss: 1.2997... Val Loss: 1.3379\n",
      "Epoch: 7/10... Step: 930... Loss: 1.2876... Val Loss: 1.3336\n",
      "Epoch: 7/10... Step: 940... Loss: 1.2973... Val Loss: 1.3344\n",
      "Epoch: 7/10... Step: 950... Loss: 1.3062... Val Loss: 1.3299\n",
      "Epoch: 7/10... Step: 960... Loss: 1.3053... Val Loss: 1.3268\n",
      "Epoch: 7/10... Step: 970... Loss: 1.3130... Val Loss: 1.3260\n",
      "Epoch: 8/10... Step: 980... Loss: 1.2815... Val Loss: 1.3278\n",
      "Epoch: 8/10... Step: 990... Loss: 1.2872... Val Loss: 1.3251\n",
      "Epoch: 8/10... Step: 1000... Loss: 1.2912... Val Loss: 1.3248\n",
      "Epoch: 8/10... Step: 1010... Loss: 1.3083... Val Loss: 1.3255\n",
      "Epoch: 8/10... Step: 1020... Loss: 1.2956... Val Loss: 1.3213\n",
      "Epoch: 8/10... Step: 1030... Loss: 1.2905... Val Loss: 1.3211\n",
      "Epoch: 8/10... Step: 1040... Loss: 1.2892... Val Loss: 1.3214\n",
      "Epoch: 8/10... Step: 1050... Loss: 1.2833... Val Loss: 1.3200\n",
      "Epoch: 8/10... Step: 1060... Loss: 1.2768... Val Loss: 1.3200\n",
      "Epoch: 8/10... Step: 1070... Loss: 1.2823... Val Loss: 1.3173\n",
      "Epoch: 8/10... Step: 1080... Loss: 1.2839... Val Loss: 1.3183\n",
      "Epoch: 8/10... Step: 1090... Loss: 1.2749... Val Loss: 1.3178\n",
      "Epoch: 8/10... Step: 1100... Loss: 1.2615... Val Loss: 1.3151\n",
      "Epoch: 8/10... Step: 1110... Loss: 1.2685... Val Loss: 1.3154\n",
      "Epoch: 9/10... Step: 1120... Loss: 1.2695... Val Loss: 1.3134\n",
      "Epoch: 9/10... Step: 1130... Loss: 1.2787... Val Loss: 1.3116\n",
      "Epoch: 9/10... Step: 1140... Loss: 1.2903... Val Loss: 1.3096\n",
      "Epoch: 9/10... Step: 1150... Loss: 1.3016... Val Loss: 1.3101\n",
      "Epoch: 9/10... Step: 1160... Loss: 1.2587... Val Loss: 1.3076\n",
      "Epoch: 9/10... Step: 1170... Loss: 1.2679... Val Loss: 1.3077\n",
      "Epoch: 9/10... Step: 1180... Loss: 1.2547... Val Loss: 1.3092\n",
      "Epoch: 9/10... Step: 1190... Loss: 1.2943... Val Loss: 1.3073\n",
      "Epoch: 9/10... Step: 1200... Loss: 1.2462... Val Loss: 1.3116\n",
      "Epoch: 9/10... Step: 1210... Loss: 1.2506... Val Loss: 1.3078\n",
      "Epoch: 9/10... Step: 1220... Loss: 1.2588... Val Loss: 1.3098\n",
      "Epoch: 9/10... Step: 1230... Loss: 1.2396... Val Loss: 1.3047\n",
      "Epoch: 9/10... Step: 1240... Loss: 1.2448... Val Loss: 1.3033\n",
      "Epoch: 9/10... Step: 1250... Loss: 1.2606... Val Loss: 1.3054\n",
      "Epoch: 10/10... Step: 1260... Loss: 1.2533... Val Loss: 1.3030\n",
      "Epoch: 10/10... Step: 1270... Loss: 1.2627... Val Loss: 1.3007\n",
      "Epoch: 10/10... Step: 1280... Loss: 1.2724... Val Loss: 1.2994\n",
      "Epoch: 10/10... Step: 1290... Loss: 1.2591... Val Loss: 1.3003\n",
      "Epoch: 10/10... Step: 1300... Loss: 1.2545... Val Loss: 1.2978\n",
      "Epoch: 10/10... Step: 1310... Loss: 1.2665... Val Loss: 1.2974\n",
      "Epoch: 10/10... Step: 1320... Loss: 1.2351... Val Loss: 1.2965\n",
      "Epoch: 10/10... Step: 1330... Loss: 1.2309... Val Loss: 1.2962\n",
      "Epoch: 10/10... Step: 1340... Loss: 1.2324... Val Loss: 1.2975\n"
     ]
    },
    {
     "name": "stdout",
     "output_type": "stream",
     "text": [
      "Epoch: 10/10... Step: 1350... Loss: 1.2131... Val Loss: 1.2959\n",
      "Epoch: 10/10... Step: 1360... Loss: 1.2318... Val Loss: 1.2975\n",
      "Epoch: 10/10... Step: 1370... Loss: 1.2187... Val Loss: 1.2965\n",
      "Epoch: 10/10... Step: 1380... Loss: 1.2545... Val Loss: 1.2916\n",
      "Epoch: 10/10... Step: 1390... Loss: 1.2897... Val Loss: 1.2910\n"
     ]
    }
   ],
   "source": [
    "batch_size = 128\n",
    "seq_length = 100\n",
    "n_epochs =  10\n",
    "# train the model\n",
    "train(net, encoded, epochs=n_epochs, batch_size=batch_size, seq_length=seq_length, lr=0.001, print_every=10)"
   ]
  },
  {
   "cell_type": "markdown",
   "metadata": {},
   "source": [
    "## Getting the best model\n",
    "\n",
    "To set your hyperparameters to get the best performance, you'll want to watch the training and validation losses. If your training loss is much lower than the validation loss, you're overfitting. Increase regularization (more dropout) or use a smaller network. If the training and validation losses are close, you're underfitting so you can increase the size of the network."
   ]
  },
  {
   "cell_type": "markdown",
   "metadata": {},
   "source": [
    "## Hyperparameters\n",
    "\n",
    "Here are the hyperparameters for the network.\n",
    "\n",
    "In defining the model:\n",
    "* `n_hidden` - The number of units in the hidden layers.\n",
    "* `n_layers` - Number of hidden LSTM layers to use.\n",
    "\n",
    "We assume that dropout probability and learning rate will be kept at the default, in this example.\n",
    "\n",
    "And in training:\n",
    "* `batch_size` - Number of sequences running through the network in one pass.\n",
    "* `seq_length` - Number of characters in the sequence the network is trained on. Larger is better typically, the network will learn more long range dependencies. But it takes longer to train. 100 is typically a good number here.\n",
    "* `lr` - Learning rate for training\n",
    "\n",
    "Here's some good advice from Andrej Karpathy on training the network. I'm going to copy it in here for your benefit, but also link to [where it originally came from](https://github.com/karpathy/char-rnn#tips-and-tricks).\n",
    "\n",
    "> ## Tips and Tricks\n",
    "\n",
    ">### Monitoring Validation Loss vs. Training Loss\n",
    ">If you're somewhat new to Machine Learning or Neural Networks it can take a bit of expertise to get good models. The most important quantity to keep track of is the difference between your training loss (printed during training) and the validation loss (printed once in a while when the RNN is run on the validation data (by default every 1000 iterations)). In particular:\n",
    "\n",
    "> - If your training loss is much lower than validation loss then this means the network might be **overfitting**. Solutions to this are to decrease your network size, or to increase dropout. For example you could try dropout of 0.5 and so on.\n",
    "> - If your training/validation loss are about equal then your model is **underfitting**. Increase the size of your model (either number of layers or the raw number of neurons per layer)\n",
    "\n",
    "> ### Approximate number of parameters\n",
    "\n",
    "> The two most important parameters that control the model are `n_hidden` and `n_layers`. I would advise that you always use `n_layers` of either 2/3. The `n_hidden` can be adjusted based on how much data you have. The two important quantities to keep track of here are:\n",
    "\n",
    "> - The number of parameters in your model. This is printed when you start training.\n",
    "> - The size of your dataset. 1MB file is approximately 1 million characters.\n",
    "\n",
    ">These two should be about the same order of magnitude. It's a little tricky to tell. Here are some examples:\n",
    "\n",
    "> - I have a 100MB dataset and I'm using the default parameter settings (which currently print 150K parameters). My data size is significantly larger (100 mil >> 0.15 mil), so I expect to heavily underfit. I am thinking I can comfortably afford to make `n_hidden` larger.\n",
    "> - I have a 10MB dataset and running a 10 million parameter model. I'm slightly nervous and I'm carefully monitoring my validation loss. If it's larger than my training loss then I may want to try to increase dropout a bit and see if that helps the validation loss.\n",
    "\n",
    "> ### Best models strategy\n",
    "\n",
    ">The winning strategy to obtaining very good models (if you have the compute time) is to always err on making the network larger (as large as you're willing to wait for it to compute) and then try different dropout values (between 0,1). Whatever model has the best validation performance (the loss, written in the checkpoint filename, low is good) is the one you should use in the end.\n",
    "\n",
    ">It is very common in deep learning to run many different models with many different hyperparameter settings, and in the end take whatever checkpoint gave the best validation performance.\n",
    "\n",
    ">By the way, the size of your training and validation splits are also parameters. Make sure you have a decent amount of data in your validation set or otherwise the validation performance will be noisy and not very informative."
   ]
  },
  {
   "cell_type": "markdown",
   "metadata": {},
   "source": [
    "## Checkpoint\n",
    "\n",
    "After training, we'll save the model so we can load it again later if we need too. Here I'm saving the parameters needed to create the same architecture, the hidden layer hyperparameters and the text characters."
   ]
  },
  {
   "cell_type": "code",
   "execution_count": 19,
   "metadata": {},
   "outputs": [],
   "source": [
    "# change the name, for saving multiple files\n",
    "model_name = 'rnn_x_epoch.net'\n",
    "\n",
    "checkpoint = {'n_hidden': net.n_hidden,\n",
    "              'n_layers': net.n_layers,\n",
    "              'state_dict': net.state_dict(),\n",
    "              'tokens': net.chars}\n",
    "\n",
    "with open(model_name, 'wb') as f:\n",
    "    torch.save(checkpoint, f)"
   ]
  },
  {
   "cell_type": "markdown",
   "metadata": {},
   "source": [
    "---\n",
    "## Making Predictions\n",
    "\n",
    "Now that the model is trained, we'll want to sample from it and make predictions about next characters! To sample, we pass in a character and have the network predict the next character. Then we take that character, pass it back in, and get another predicted character. Just keep doing this and you'll generate a bunch of text!\n",
    "\n",
    "### A note on the `predict`  function\n",
    "\n",
    "The output of our RNN is from a fully-connected layer and it outputs a **distribution of next-character scores**.\n",
    "\n",
    "> To actually get the next character, we apply a softmax function, which gives us a *probability* distribution that we can then sample to predict the next character.\n",
    "\n",
    "### Top K sampling\n",
    "\n",
    "Our predictions come from a categorical probability distribution over all the possible characters. We can make the sample text and make it more reasonable to handle (with less variables) by only considering some $K$ most probable characters. This will prevent the network from giving us completely absurd characters while allowing it to introduce some noise and randomness into the sampled text. Read more about [topk, here](https://pytorch.org/docs/stable/torch.html#torch.topk).\n"
   ]
  },
  {
   "cell_type": "code",
   "execution_count": 20,
   "metadata": {},
   "outputs": [],
   "source": [
    "def predict(net, char, h=None, top_k=None):\n",
    "        ''' Given a character, predict the next character.\n",
    "            Returns the predicted character and the hidden state.\n",
    "        '''\n",
    "        \n",
    "        # tensor inputs\n",
    "        x = np.array([[net.char2int[char]]])\n",
    "        x = one_hot_encode(x, len(net.chars))\n",
    "        inputs = torch.from_numpy(x)\n",
    "        \n",
    "        if(train_on_gpu):\n",
    "            inputs = inputs.cuda()\n",
    "        \n",
    "        # detach hidden state from history\n",
    "        h = tuple([each.data for each in h])\n",
    "        # get the output of the model\n",
    "        out, h = net(inputs, h)\n",
    "\n",
    "        # get the character probabilities\n",
    "        p = F.softmax(out, dim=1).data\n",
    "        if(train_on_gpu):\n",
    "            p = p.cpu() # move to cpu\n",
    "        \n",
    "        # get top characters\n",
    "        if top_k is None:\n",
    "            top_ch = np.arange(len(net.chars))\n",
    "        else:\n",
    "            p, top_ch = p.topk(top_k)\n",
    "            top_ch = top_ch.numpy().squeeze()\n",
    "        \n",
    "        # select the likely next character with some element of randomness\n",
    "        p = p.numpy().squeeze()\n",
    "        char = np.random.choice(top_ch, p=p/p.sum())\n",
    "        \n",
    "        # return the encoded value of the predicted char and the hidden state\n",
    "        return net.int2char[char], h"
   ]
  },
  {
   "cell_type": "markdown",
   "metadata": {},
   "source": [
    "### Priming and generating text \n",
    "\n",
    "Typically you'll want to prime the network so you can build up a hidden state. Otherwise the network will start out generating characters at random. In general the first bunch of characters will be a little rough since it hasn't built up a long history of characters to predict from."
   ]
  },
  {
   "cell_type": "code",
   "execution_count": 21,
   "metadata": {},
   "outputs": [],
   "source": [
    "def sample(net, size, prime='The', top_k=None):\n",
    "        \n",
    "    if(train_on_gpu):\n",
    "        net.cuda()\n",
    "    else:\n",
    "        net.cpu()\n",
    "    \n",
    "    net.eval() # eval mode\n",
    "    \n",
    "    # First off, run through the prime characters\n",
    "    chars = [ch for ch in prime]\n",
    "    h = net.init_hidden(1)\n",
    "    for ch in prime:\n",
    "        char, h = predict(net, ch, h, top_k=top_k)\n",
    "\n",
    "    chars.append(char)\n",
    "    \n",
    "    # Now pass in the previous character and get a new one\n",
    "    for ii in range(size):\n",
    "        char, h = predict(net, chars[-1], h, top_k=top_k)\n",
    "        chars.append(char)\n",
    "\n",
    "    return ''.join(chars)"
   ]
  },
  {
   "cell_type": "code",
   "execution_count": 22,
   "metadata": {},
   "outputs": [
    {
     "name": "stdout",
     "output_type": "stream",
     "text": [
      "Anna, so many way of her silence, and was to be\n",
      "something for a present of the\n",
      "calms, and so stopping on him and always to tend her, and well, and she\n",
      "went into\n",
      "the care in staying of what steak, as though she\n",
      "was at once the prince was\n",
      "in the crush of the men of his wife with him. \"I've been money into the most stay.\"\n",
      " \"And\n",
      "I have strucg the prain there wish a mistake, without a perfect there were.\n",
      "A possible.\"\n",
      "\n",
      "\"I am for a croasher, but, and I draw all to his\n",
      "brother's.\n",
      "\n",
      "They're all over. Then already all the\n",
      "choles in the sick stretches and wines, when they heard some first off to see him. And that he had always did, and the\n",
      "saces on\n",
      "the conclesion. Stepan Arkadyevitch had been alone of the position, and that he\n",
      "heard stairtayed, with the sours of such a first minite was nice in them. She saw it with him that this face, and his sister's charming smile of the\n",
      "commission of his sorrow and to him.\n",
      "\n",
      "As he had not at the carriage that husband with some dinner of the counters, was there in the\n"
     ]
    }
   ],
   "source": [
    "print(sample(net, 1000, prime='Anna', top_k=5))"
   ]
  },
  {
   "cell_type": "markdown",
   "metadata": {},
   "source": [
    "## Loading a checkpoint"
   ]
  },
  {
   "cell_type": "code",
   "execution_count": 23,
   "metadata": {},
   "outputs": [
    {
     "data": {
      "text/plain": [
       "<All keys matched successfully>"
      ]
     },
     "execution_count": 23,
     "metadata": {},
     "output_type": "execute_result"
    }
   ],
   "source": [
    "# Here we have loaded in a model that trained over 20 epochs `rnn_20_epoch.net`\n",
    "with open('rnn_x_epoch.net', 'rb') as f:\n",
    "    checkpoint = torch.load(f)\n",
    "    \n",
    "loaded = CharRNN(checkpoint['tokens'], n_hidden=checkpoint['n_hidden'], n_layers=checkpoint['n_layers'])\n",
    "loaded.load_state_dict(checkpoint['state_dict'])"
   ]
  },
  {
   "cell_type": "code",
   "execution_count": 24,
   "metadata": {},
   "outputs": [
    {
     "name": "stdout",
     "output_type": "stream",
     "text": [
      "And Levin said his white. The strame whisper were always back to her.\n",
      "\n",
      "\"What is there were interested about your son.\n",
      "\n",
      "\"I've never been the same is, but when there's some\n",
      "sounds,\" he added.\n",
      "\n",
      "The same who had been carriage, which he saw an actual tight and his sheeps, was not\n",
      "an old month of to her, the cold one of to ask the\n",
      "critic, he cranded, and wearing the corridor\n",
      "that was\n",
      "an official\n",
      "peasant of the person, his brother were\n",
      "changed into his strength in the carriages to him. They had to give her suddenly the\n",
      "delightful sick one of the most past\n",
      "in the door, with his son, when he could have seen him\n",
      "about a man, he had a smile of the prince.\n",
      "\n",
      "\"Yes, I were done a long with marriage?\" answered Vrensky who came out about the princess and his head, who\n",
      "was always almost begin to gaze in a smile to himself. He was at honey, helped his face who had still some dead of the part of his bast, and walked at him on the contrary, he had been discovered to him.\n",
      "\n",
      "\"Ah, you don't know.... What do you've been the prince and this way, though I did not say it in him, and why, I'll go, that you won't bring them in the sorts and the direction with\n",
      "all something, and he's seen into her\n",
      "arms of this present a child!\" answered Levin, and her life she was a matter of the dropping on his success. He was silent to strong his wife, too, still a simple from his former actions of supposition with a solication of sorry through the\n",
      "muscros of the children went out on his son.\n",
      "\n",
      "\"I don't say\n",
      "it in any table.\"\n",
      "\n",
      "\"As she'll do you the party that some man.\"\n",
      "\n",
      "And a stirling stream was always stirred. He\n",
      "felt through his failing steps and the country and an acquaintance of his wife.\n",
      "\n",
      "\"It's a sense of the same and to the corn in the pirch they\n",
      "say it all so that the croth sevente she said it, to the children with anything in those way. Why, streazing out is they are as too much\n",
      "than it is still tracting a settled than out of the settence,\n",
      "the mistare into spite of herself. I don't know it and must be said what is to th\n"
     ]
    }
   ],
   "source": [
    "# Sample using a loaded model\n",
    "print(sample(loaded, 2000, top_k=5, prime=\"And Levin said\"))"
   ]
  },
  {
   "cell_type": "code",
   "execution_count": null,
   "metadata": {
    "collapsed": true
   },
   "outputs": [],
   "source": []
  }
 ],
 "metadata": {
  "kernelspec": {
   "display_name": "Python 3",
   "language": "python",
   "name": "python3"
  },
  "language_info": {
   "codemirror_mode": {
    "name": "ipython",
    "version": 3
   },
   "file_extension": ".py",
   "mimetype": "text/x-python",
   "name": "python",
   "nbconvert_exporter": "python",
   "pygments_lexer": "ipython3",
   "version": "3.7.6"
  }
 },
 "nbformat": 4,
 "nbformat_minor": 2
}
